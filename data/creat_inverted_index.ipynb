{
 "cells": [
  {
   "cell_type": "code",
   "execution_count": 2,
   "metadata": {},
   "outputs": [],
   "source": [
    "import numpy as np\n",
    "import pandas as pd\n",
    "import jieba\n",
    "import pickle"
   ]
  },
  {
   "cell_type": "code",
   "execution_count": 3,
   "metadata": {},
   "outputs": [],
   "source": [
    "data = pd.read_csv('dataset.csv')"
   ]
  },
  {
   "cell_type": "code",
   "execution_count": 4,
   "metadata": {},
   "outputs": [
    {
     "data": {
      "text/plain": [
       "(32526, 3)"
      ]
     },
     "execution_count": 4,
     "metadata": {},
     "output_type": "execute_result"
    }
   ],
   "source": [
    "data.shape"
   ]
  },
  {
   "cell_type": "code",
   "execution_count": 5,
   "metadata": {
    "scrolled": true
   },
   "outputs": [
    {
     "data": {
      "text/html": [
       "<div>\n",
       "<style scoped>\n",
       "    .dataframe tbody tr th:only-of-type {\n",
       "        vertical-align: middle;\n",
       "    }\n",
       "\n",
       "    .dataframe tbody tr th {\n",
       "        vertical-align: top;\n",
       "    }\n",
       "\n",
       "    .dataframe thead th {\n",
       "        text-align: right;\n",
       "    }\n",
       "</style>\n",
       "<table border=\"1\" class=\"dataframe\">\n",
       "  <thead>\n",
       "    <tr style=\"text-align: right;\">\n",
       "      <th></th>\n",
       "      <th>qid</th>\n",
       "      <th>question</th>\n",
       "      <th>answer</th>\n",
       "    </tr>\n",
       "  </thead>\n",
       "  <tbody>\n",
       "    <tr>\n",
       "      <th>0</th>\n",
       "      <td>1</td>\n",
       "      <td>补发网银盾</td>\n",
       "      <td>您可以到智慧柜员机办理此项业务，方便快捷，节省您的宝贵时间哦。若去柜台办理，请刷身份证取号。</td>\n",
       "    </tr>\n",
       "    <tr>\n",
       "      <th>1</th>\n",
       "      <td>2</td>\n",
       "      <td>代发工资</td>\n",
       "      <td>您要办理的是对公开户、销户、签约及其他业务。请刷身份证，小龙人来帮您取个号吧。</td>\n",
       "    </tr>\n",
       "    <tr>\n",
       "      <th>2</th>\n",
       "      <td>3</td>\n",
       "      <td>对帐单查询打印</td>\n",
       "      <td>您要办理的是对公开户、销户、签约及其他业务。请刷身份证，小龙人来帮您取个号吧。</td>\n",
       "    </tr>\n",
       "    <tr>\n",
       "      <th>3</th>\n",
       "      <td>4</td>\n",
       "      <td>理财产品取号</td>\n",
       "      <td>请说出您需要办理的业务</td>\n",
       "    </tr>\n",
       "    <tr>\n",
       "      <th>4</th>\n",
       "      <td>5</td>\n",
       "      <td>密码修改</td>\n",
       "      <td>请您带上身份证到自助柜员机办理，简单快捷，操作容易哦。</td>\n",
       "    </tr>\n",
       "  </tbody>\n",
       "</table>\n",
       "</div>"
      ],
      "text/plain": [
       "  qid question                                          answer\n",
       "0   1    补发网银盾  您可以到智慧柜员机办理此项业务，方便快捷，节省您的宝贵时间哦。若去柜台办理，请刷身份证取号。\n",
       "1   2     代发工资         您要办理的是对公开户、销户、签约及其他业务。请刷身份证，小龙人来帮您取个号吧。\n",
       "2   3  对帐单查询打印         您要办理的是对公开户、销户、签约及其他业务。请刷身份证，小龙人来帮您取个号吧。\n",
       "3   4   理财产品取号                                     请说出您需要办理的业务\n",
       "4   5     密码修改                     请您带上身份证到自助柜员机办理，简单快捷，操作容易哦。"
      ]
     },
     "execution_count": 5,
     "metadata": {},
     "output_type": "execute_result"
    }
   ],
   "source": [
    "data.head()"
   ]
  },
  {
   "cell_type": "code",
   "execution_count": 33,
   "metadata": {},
   "outputs": [
    {
     "data": {
      "text/plain": [
       "'补发网银盾'"
      ]
     },
     "execution_count": 33,
     "metadata": {},
     "output_type": "execute_result"
    }
   ],
   "source": [
    "val = data.loc[data.qid=='1', 'question'].values[0]\n",
    "val"
   ]
  },
  {
   "cell_type": "code",
   "execution_count": 7,
   "metadata": {},
   "outputs": [],
   "source": [
    "with open('stopwords.txt') as file:\n",
    "    stopwords = file.read().split('\\n')\n",
    "\n",
    "docs = []\n",
    "doc_words_dict = {}\n",
    "\n",
    "for index, row in data.iterrows():\n",
    "    question = str(row['question'])\n",
    "    question_cut = list(x for x in jieba.cut(question) if x not in stopwords)\n",
    "    docs.append(question_cut)\n",
    "    doc_words_dict[row['qid']] = set(question_after_cut)\n",
    "    \n",
    "with open('question_cut.pickle', 'wb') as handle:\n",
    "    pickle.dump(docs, handle, protocol=pickle.HIGHEST_PROTOCOL)  \n"
   ]
  },
  {
   "cell_type": "code",
   "execution_count": 27,
   "metadata": {},
   "outputs": [
    {
     "data": {
      "text/plain": [
       "32526"
      ]
     },
     "execution_count": 27,
     "metadata": {},
     "output_type": "execute_result"
    }
   ],
   "source": [
    "len(doc_words_dict)"
   ]
  },
  {
   "cell_type": "code",
   "execution_count": 28,
   "metadata": {},
   "outputs": [
    {
     "data": {
      "text/plain": [
       "['网银盾', '补发']"
      ]
     },
     "execution_count": 28,
     "metadata": {},
     "output_type": "execute_result"
    }
   ],
   "source": [
    "doc_words_dict['1']"
   ]
  },
  {
   "cell_type": "code",
   "execution_count": 29,
   "metadata": {},
   "outputs": [
    {
     "data": {
      "text/plain": [
       "['查询', '帐单', '打印']"
      ]
     },
     "execution_count": 29,
     "metadata": {},
     "output_type": "execute_result"
    }
   ],
   "source": [
    "doc_words_dict['3']"
   ]
  },
  {
   "cell_type": "code",
   "execution_count": 30,
   "metadata": {},
   "outputs": [
    {
     "data": {
      "text/plain": [
       "['理财产品', '取号']"
      ]
     },
     "execution_count": 30,
     "metadata": {},
     "output_type": "execute_result"
    }
   ],
   "source": [
    "doc_words_dict['4']"
   ]
  },
  {
   "cell_type": "code",
   "execution_count": 31,
   "metadata": {},
   "outputs": [],
   "source": [
    "word_docs_dict = {}\n",
    "\n",
    "for key, value in doc_words_dict.items():\n",
    "    for word in value:\n",
    "        if word in word_docs_dict.keys():\n",
    "            word_docs_dict[word].append(key)\n",
    "        else:\n",
    "            word_docs_dict[word] = [key]"
   ]
  },
  {
   "cell_type": "code",
   "execution_count": 35,
   "metadata": {},
   "outputs": [
    {
     "data": {
      "text/plain": [
       "['4',\n",
       " '763',\n",
       " '920',\n",
       " '1106',\n",
       " '1107',\n",
       " '1108',\n",
       " '1112',\n",
       " '1113',\n",
       " '1114',\n",
       " '1148',\n",
       " '1208',\n",
       " '1209',\n",
       " '1444',\n",
       " '1500',\n",
       " '3055',\n",
       " '19395',\n",
       " '19396',\n",
       " '19397',\n",
       " '19398',\n",
       " '19399',\n",
       " '19400',\n",
       " '50366',\n",
       " '50368',\n",
       " '50393',\n",
       " '50914',\n",
       " '50915',\n",
       " '50916',\n",
       " '51131',\n",
       " '51132',\n",
       " '51950',\n",
       " '51951',\n",
       " '51953',\n",
       " '51954',\n",
       " '51955',\n",
       " '52056',\n",
       " '52057',\n",
       " '52058',\n",
       " '52059',\n",
       " '52061',\n",
       " '52233',\n",
       " '52781',\n",
       " '52782',\n",
       " '52783',\n",
       " '52784',\n",
       " '52785',\n",
       " '52872',\n",
       " '52873',\n",
       " '52875',\n",
       " '52876',\n",
       " '52878',\n",
       " '52880',\n",
       " '52882',\n",
       " '52883',\n",
       " '52884',\n",
       " '53136',\n",
       " '53138',\n",
       " '53170',\n",
       " '53430',\n",
       " '53486',\n",
       " '53487',\n",
       " '53488',\n",
       " '53489',\n",
       " '53490',\n",
       " '53496',\n",
       " '53497',\n",
       " '53647',\n",
       " '53648',\n",
       " '53822',\n",
       " '53823',\n",
       " '53824',\n",
       " '53825',\n",
       " '54599',\n",
       " '54626',\n",
       " '54917',\n",
       " '54918',\n",
       " '55008',\n",
       " '55330',\n",
       " '55344',\n",
       " '55409',\n",
       " '55410',\n",
       " '55425',\n",
       " '55426',\n",
       " '55435',\n",
       " '55436',\n",
       " '55437',\n",
       " '55438',\n",
       " '55442',\n",
       " '55443',\n",
       " '55444',\n",
       " '55445',\n",
       " '55619',\n",
       " '55620',\n",
       " '55621',\n",
       " '55626',\n",
       " '55627',\n",
       " '55637',\n",
       " '55639',\n",
       " '55705',\n",
       " '55913',\n",
       " '56154',\n",
       " '56215',\n",
       " '56277',\n",
       " '56281',\n",
       " '56282',\n",
       " '56434',\n",
       " '56606',\n",
       " '56610',\n",
       " '56611',\n",
       " '56612',\n",
       " '56613',\n",
       " '56839',\n",
       " '56840',\n",
       " '56877',\n",
       " '56887',\n",
       " '56921',\n",
       " '56924',\n",
       " '56934',\n",
       " '57015',\n",
       " '57774',\n",
       " '58083',\n",
       " '58084',\n",
       " '58087',\n",
       " '58088',\n",
       " '58090',\n",
       " '58091',\n",
       " '58092',\n",
       " '58093',\n",
       " '58094',\n",
       " '58098',\n",
       " '58099',\n",
       " '58100',\n",
       " '58101',\n",
       " '58110',\n",
       " '58120',\n",
       " '58596',\n",
       " '58641',\n",
       " '58643',\n",
       " '58644',\n",
       " '58854',\n",
       " '58855',\n",
       " '58857',\n",
       " '59086',\n",
       " '59087',\n",
       " '59088',\n",
       " '59090',\n",
       " '59091',\n",
       " '59092',\n",
       " '59093',\n",
       " '59094',\n",
       " '59096',\n",
       " '59097',\n",
       " '59098',\n",
       " '59099',\n",
       " '59100',\n",
       " '59101',\n",
       " '59931',\n",
       " '59970',\n",
       " '60205',\n",
       " '64629',\n",
       " '64898',\n",
       " '64910',\n",
       " '64911',\n",
       " '64913',\n",
       " '64914',\n",
       " '64915',\n",
       " '64952',\n",
       " '64960',\n",
       " '66016',\n",
       " '66033',\n",
       " '66038',\n",
       " '66417',\n",
       " '66482',\n",
       " '66504',\n",
       " '67138',\n",
       " '67139',\n",
       " '67527',\n",
       " '68677',\n",
       " '68842',\n",
       " '68957',\n",
       " '68958',\n",
       " '68959',\n",
       " '68960',\n",
       " '68961',\n",
       " '68962',\n",
       " '68963',\n",
       " '68964',\n",
       " '68965',\n",
       " '68966',\n",
       " '68967',\n",
       " '68968']"
      ]
     },
     "execution_count": 35,
     "metadata": {},
     "output_type": "execute_result"
    }
   ],
   "source": [
    "word_docs_dict['理财产品']"
   ]
  },
  {
   "cell_type": "code",
   "execution_count": 36,
   "metadata": {},
   "outputs": [
    {
     "data": {
      "text/plain": [
       "['4', '902', '1383', '1398', '50361']"
      ]
     },
     "execution_count": 36,
     "metadata": {},
     "output_type": "execute_result"
    }
   ],
   "source": [
    "word_docs_dict['取号']"
   ]
  },
  {
   "cell_type": "code",
   "execution_count": 33,
   "metadata": {
    "scrolled": true
   },
   "outputs": [],
   "source": [
    "# 将计算得到的倒排索引保存到文件中\n",
    "with open('inverted_index.pickle', 'wb') as handle:\n",
    "    pickle.dump(word_docs_dict, handle, protocol=pickle.HIGHEST_PROTOCOL)"
   ]
  },
  {
   "cell_type": "code",
   "execution_count": 34,
   "metadata": {},
   "outputs": [],
   "source": [
    "# 想使用倒排索引时，执行以下代码即可\n",
    "with open('inverted_index.pickle', 'rb') as handle:\n",
    "    word_docs_dict_result = pickle.load(handle)"
   ]
  }
 ],
 "metadata": {
  "kernelspec": {
   "display_name": "Python 3",
   "language": "python",
   "name": "python3"
  },
  "language_info": {
   "codemirror_mode": {
    "name": "ipython",
    "version": 3
   },
   "file_extension": ".py",
   "mimetype": "text/x-python",
   "name": "python",
   "nbconvert_exporter": "python",
   "pygments_lexer": "ipython3",
   "version": "3.7.1"
  }
 },
 "nbformat": 4,
 "nbformat_minor": 2
}
